{
  "nbformat": 4,
  "nbformat_minor": 0,
  "metadata": {
    "colab": {
      "provenance": [],
      "authorship_tag": "ABX9TyOfEPUp1+ZmjrGtpm7mFp0J",
      "include_colab_link": true
    },
    "kernelspec": {
      "name": "python3",
      "display_name": "Python 3"
    },
    "language_info": {
      "name": "python"
    }
  },
  "cells": [
    {
      "cell_type": "markdown",
      "metadata": {
        "id": "view-in-github",
        "colab_type": "text"
      },
      "source": [
        "<a href=\"https://colab.research.google.com/github/pinilDissanayaka/Election-Insight-App/blob/main/Notebook.ipynb\" target=\"_parent\"><img src=\"https://colab.research.google.com/assets/colab-badge.svg\" alt=\"Open In Colab\"/></a>"
      ]
    },
    {
      "cell_type": "code",
      "source": [
        "import os\n",
        "from pinecone import Pinecone, ServerlessSpec\n",
        "from google.colab import userdata\n",
        "from langchain_google_genai.embeddings import GoogleGenerativeAIEmbeddings\n",
        "from langchain_groq.chat_models import ChatGroq\n",
        "from langchain_experimental.text_splitter import SemanticChunker\n",
        "from langchain.document_loaders import PyPDFLoader"
      ],
      "metadata": {
        "id": "MToo0ior4cNq"
      },
      "execution_count": 15,
      "outputs": []
    },
    {
      "cell_type": "code",
      "source": [
        "os.environ['GOOGLE_API_KEY']=userdata.get('GOOGLE_API_KEY')\n",
        "os.environ['PINECONE_API_KEY']=userdata.get('PINECORN_API_KEY')\n",
        "os.environ['GROQ_API_KEY']=userdata.get('GROQ_API_KEY')\n",
        "os.environ['LANGCHAIN_API_KEY']=userdata.get('LANGCHAIN_API_KEY')\n",
        "os.environ['LANGCHAIN_TRACING_V2']='true'"
      ],
      "metadata": {
        "id": "q-GD-gY-5Fp_"
      },
      "execution_count": 11,
      "outputs": []
    },
    {
      "cell_type": "code",
      "source": [
        "constitution_path=\"/content/constitution.pdf\"\n",
        "\n",
        "loader=PyPDFLoader(file_path=constitution_path)\n",
        "\n",
        "constitution_data=loader.load()\n",
        "\n",
        "print(f\"{len(constitution_data)} documents are loaded.\")\n",
        "print(\"=\"*100)\n",
        "print(\"A sample document is:\")\n",
        "print(constitution_data[0].page_content)"
      ],
      "metadata": {
        "colab": {
          "base_uri": "https://localhost:8080/"
        },
        "id": "ogS8ORHx6DGz",
        "outputId": "d103d801-1f43-4164-aa01-93c61f2ba162"
      },
      "execution_count": 18,
      "outputs": [
        {
          "output_type": "stream",
          "name": "stdout",
          "text": [
            "306 documents are loaded.\n",
            "====================================================================================================\n",
            "A sample document is:\n",
            "   The Constitution  of the Democratic  Socialist  Republic  of Sri Lanka  \n",
            " \n",
            "THE  CONSTITUTION  \n",
            " \n",
            " \n",
            "OF THE  \n",
            " \n",
            " \n",
            "DEMOCR ATIC SOCIALIST  REPUBLIC \n",
            "OF SRI LANKA  \n",
            " \n",
            " \n",
            " \n",
            " \n",
            "(As amended up to 31st October 2022)   \n",
            "Revised Edition  – 2023  \n",
            " \n",
            " \n",
            " \n",
            " \n",
            " \n",
            " \n",
            " \n",
            " \n",
            " \n",
            " \n",
            " \n",
            " \n",
            " \n",
            "Published by the Parliament  Secretariat  \n",
            " \n",
            " \n",
            "  \n",
            "\n"
          ]
        }
      ]
    },
    {
      "cell_type": "code",
      "source": [],
      "metadata": {
        "colab": {
          "base_uri": "https://localhost:8080/"
        },
        "id": "K--1FFbA6aGu",
        "outputId": "32b35c7a-e27f-4c69-a753-6abfaaaaa2ac"
      },
      "execution_count": 17,
      "outputs": [
        {
          "output_type": "stream",
          "name": "stdout",
          "text": [
            "Collecting pypdf\n",
            "  Downloading pypdf-4.3.1-py3-none-any.whl.metadata (7.4 kB)\n",
            "Requirement already satisfied: typing_extensions>=4.0 in /usr/local/lib/python3.10/dist-packages (from pypdf) (4.12.2)\n",
            "Downloading pypdf-4.3.1-py3-none-any.whl (295 kB)\n",
            "\u001b[2K   \u001b[90m━━━━━━━━━━━━━━━━━━━━━━━━━━━━━━━━━━━━━━━━\u001b[0m \u001b[32m295.8/295.8 kB\u001b[0m \u001b[31m4.9 MB/s\u001b[0m eta \u001b[36m0:00:00\u001b[0m\n",
            "\u001b[?25hInstalling collected packages: pypdf\n",
            "Successfully installed pypdf-4.3.1\n"
          ]
        }
      ]
    },
    {
      "cell_type": "code",
      "source": [],
      "metadata": {
        "id": "6k4N9qlD7jO1"
      },
      "execution_count": null,
      "outputs": []
    }
  ]
}